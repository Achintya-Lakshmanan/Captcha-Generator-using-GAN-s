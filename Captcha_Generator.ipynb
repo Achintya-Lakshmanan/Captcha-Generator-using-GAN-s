{
 "cells": [
  {
   "cell_type": "code",
   "execution_count": 1,
   "id": "461a0b57",
   "metadata": {},
   "outputs": [],
   "source": [
    "from PIL import Image\n",
    "import numpy as np"
   ]
  },
  {
   "cell_type": "code",
   "execution_count": 2,
   "id": "c649e925",
   "metadata": {},
   "outputs": [],
   "source": [
    "PATH_NUM = \"D:/Achintya/Projects/GAN/outputs_mnist/\"\n",
    "PATH_CHAR = \"D:/Achintya/Projects/GAN/outputs_emnist/\""
   ]
  },
  {
   "cell_type": "code",
   "execution_count": 3,
   "id": "de5a03c2",
   "metadata": {},
   "outputs": [],
   "source": [
    "img_num = Image.open(PATH_NUM+\"test.png\")\n",
    "img_char = Image.open(PATH_CHAR+\"test.png\")\n",
    "\n",
    "width, height = img_num.size\n",
    "\n",
    "rows = 8\n",
    "cols = 8\n",
    "\n",
    "tile_width = width // cols\n",
    "tile_height = height // rows"
   ]
  },
  {
   "cell_type": "code",
   "execution_count": 4,
   "id": "d40dfd36",
   "metadata": {},
   "outputs": [],
   "source": [
    "k = 0\n",
    "for i in range(0, height-tile_height, tile_height):\n",
    "    for j in range(0, width-tile_width, tile_width):\n",
    "        box = (j, i, j + tile_width, i + tile_height)\n",
    "        piece_num = img_num.crop(box)\n",
    "        piece_char = img_char.crop(box)\n",
    "        piece_num.save(PATH_NUM+f'captcha_num/piece_{k}.png')\n",
    "        piece_char.save(PATH_CHAR+f'captcha_char/piece_{k}.png')\n",
    "        k += 1"
   ]
  },
  {
   "cell_type": "code",
   "execution_count": 5,
   "id": "7db5a26a",
   "metadata": {},
   "outputs": [],
   "source": [
    "def combine_img(image, new_image, offset):\n",
    "    new_image.paste(image, (offset,0))\n",
    "    return new_image"
   ]
  },
  {
   "cell_type": "code",
   "execution_count": 6,
   "id": "af952d2f",
   "metadata": {},
   "outputs": [],
   "source": [
    "length = 8\n",
    "\n",
    "for _ in range(10):\n",
    "    new_image = Image.new('RGB', (width, tile_height))\n",
    "    offset = 0\n",
    "    for i in range(length):\n",
    "        choice = np.random.randint(1, 3)\n",
    "        if choice == 1:\n",
    "            image = Image.open(PATH_NUM+\"captcha_num/piece_\"+str(np.random.randint((rows-1)*(cols-1)))+\".png\")\n",
    "            new_image = combine_img(image, new_image, offset)\n",
    "            offset += image.size[0]\n",
    "\n",
    "        else:\n",
    "            image = Image.open(PATH_CHAR+\"captcha_char/piece_\"+str(np.random.randint((rows-1)*(cols-1)))+\".png\")\n",
    "            new_image = combine_img(image, new_image, offset)\n",
    "            offset += image.size[0]\n",
    "\n",
    "    new_image.save(f\"D:/Achintya/Projects/GAN/generated_captcha/captcha_{_}.png\")"
   ]
  },
  {
   "cell_type": "code",
   "execution_count": null,
   "id": "b5b35941",
   "metadata": {},
   "outputs": [],
   "source": []
  }
 ],
 "metadata": {
  "kernelspec": {
   "display_name": "Python 3 (ipykernel)",
   "language": "python",
   "name": "python3"
  },
  "language_info": {
   "codemirror_mode": {
    "name": "ipython",
    "version": 3
   },
   "file_extension": ".py",
   "mimetype": "text/x-python",
   "name": "python",
   "nbconvert_exporter": "python",
   "pygments_lexer": "ipython3",
   "version": "3.8.0"
  }
 },
 "nbformat": 4,
 "nbformat_minor": 5
}
